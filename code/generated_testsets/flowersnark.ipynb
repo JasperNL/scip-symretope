{
 "cells": [
  {
   "cell_type": "markdown",
   "metadata": {},
   "source": [
    "# Margot's paper \"Symmetric ILP: Coloring and small integers\": flosn instances\n",
    "Margot presents 3 flower-snark instances that have cyclic symmetries.\n",
    "\n",
    "The instance he solves is a 3-edge colouring problem on this class of graphs.\n",
    "\n",
    "https://doi.org/10.1016/j.disopt.2006.10.008\n",
    "\n",
    "Since the chromatic index of this problem is 4 (i.e., at least 4 colours are required to colour the edges), all these problems will be infeasible.\n",
    "\n",
    "https://en.wikipedia.org/wiki/Flower_snark"
   ]
  },
  {
   "cell_type": "code",
   "execution_count": null,
   "metadata": {},
   "outputs": [],
   "source": [
    "import networkx as nx\n",
    "import pyscipopt as ps"
   ]
  },
  {
   "cell_type": "code",
   "execution_count": null,
   "metadata": {},
   "outputs": [],
   "source": [
    "def generate_flower_snark(n):\n",
    "    nodes = list(range(4 * n))\n",
    "    A = nodes[0 * n : 1 * n]\n",
    "    B = nodes[1 * n : 2 * n]\n",
    "    C = nodes[2 * n : 3 * n]\n",
    "    D = nodes[3 * n : 4 * n]\n",
    "\n",
    "    g : nx.Graph = nx.Graph()\n",
    "    g.add_nodes_from(nodes)\n",
    "\n",
    "    # Build n copies of the star graph on 4 vertices, with center A, and surrounding edges B, C, D.\n",
    "    for i in range(n):\n",
    "        g.add_edges_from([\n",
    "            (A[i], B[i]),\n",
    "            (A[i], C[i]),\n",
    "            (A[i], D[i])\n",
    "        ])\n",
    "\n",
    "    # Construct the n-cycle on the nodes (B1,...,Bn).\n",
    "    g.add_edges_from([\n",
    "        (B[i - 1], B[i])\n",
    "        for i in range(n)\n",
    "    ])\n",
    "\n",
    "    # Construct the 2n cycle (C1,...,Cn,D1,...,Dn).\n",
    "    for i in range(n):\n",
    "        if i == 0:\n",
    "            g.add_edge(D[-1], C[0])\n",
    "            g.add_edge(C[-1], D[0])\n",
    "        else:\n",
    "            g.add_edge(C[i - 1], C[i])\n",
    "            g.add_edge(D[i - 1], D[i])\n",
    "    \n",
    "    return g"
   ]
  },
  {
   "cell_type": "code",
   "execution_count": null,
   "metadata": {},
   "outputs": [],
   "source": [
    "def make_edge_colouring(g, c, outputpath):\n",
    "    colours = range(c)\n",
    "    model = ps.Model()\n",
    "\n",
    "    x = {}\n",
    "    for i, j in sorted(g.edges):\n",
    "        for c in colours:\n",
    "            x[tuple(sorted((i, j))), c] = model.addVar(name=f\"x[{i},{j},{c}]\", vtype=\"B\")\n",
    "\n",
    "    for i in sorted(g.nodes):\n",
    "        for c in colours:\n",
    "            model.addCons(ps.quicksum(x[tuple(sorted((i, j))), c] for j in g.neighbors(i)) <= 1 )\n",
    "\n",
    "    for i, j in sorted(g.edges):\n",
    "        model.addCons(ps.quicksum(x[tuple(sorted((i, j))), c] for c in colours) == 1 )\n",
    "\n",
    "    # model.setObjective(ps.quicksum(x.values()), sense=\"maximize\")\n",
    "\n",
    "    model.writeProblem(outputpath)\n",
    "\n",
    "    model.freeProb()\n",
    "    del model"
   ]
  },
  {
   "cell_type": "code",
   "execution_count": null,
   "metadata": {},
   "outputs": [],
   "source": [
    "c = 3\n",
    "for n in range(2, 120):\n",
    "    g = generate_flower_snark(n)\n",
    "    make_edge_colouring(g, c, f\"../instances/flowersnark/flowersnark{n}_{c}.cip\")"
   ]
  },
  {
   "cell_type": "code",
   "execution_count": null,
   "metadata": {},
   "outputs": [],
   "source": []
  }
 ],
 "metadata": {
  "interpreter": {
   "hash": "916dbcbb3f70747c44a77c7bcd40155683ae19c65e1c03b4aa3499c5328201f1"
  },
  "kernelspec": {
   "display_name": "Python 3.8.10 64-bit",
   "name": "python3"
  },
  "language_info": {
   "codemirror_mode": {
    "name": "ipython",
    "version": 3
   },
   "file_extension": ".py",
   "mimetype": "text/x-python",
   "name": "python",
   "nbconvert_exporter": "python",
   "pygments_lexer": "ipython3",
   "version": "3.8.10"
  },
  "orig_nbformat": 4
 },
 "nbformat": 4,
 "nbformat_minor": 2
}
