{
 "cells": [
  {
   "cell_type": "markdown",
   "metadata": {},
   "source": [
    "# Experiment\n",
    "\n",
    "We run the instances from `flowersnark{2..119}` with the `nosym` parameter.\n",
    "Set a time limit of 240 seconds, to get a grasp of which instances are slow and which are not.\n",
    "\n",
    "After that, run `grep \"Solving Time\" *flowersnark*.cip.out`\n",
    "and write that to `flowersnark_test_output.txt`.\n",
    "Then compare the parameters `n`, `c` ($c=3$, always) and time `t`.\n",
    "\n",
    "Conclusion: Without symmetry handling, even values of $n$ are trivially solvable,\n",
    "while odd values run into the time limit as low as $n=13$\n",
    "\n",
    "Note: $n=13$ corresponds to `flosn52` of Margot! (multiplication factor of 4),\n",
    "and `flosn60` and `flosn84` to $n=15$ and $n=21$, respectively.\n"
   ]
  },
  {
   "cell_type": "code",
   "execution_count": 17,
   "metadata": {},
   "outputs": [],
   "source": [
    "import re\n",
    "\n",
    "with open(\"flowersnark_test_output.txt\", \"r\") as f:\n",
    "    lines = f.read()\n"
   ]
  },
  {
   "cell_type": "code",
   "execution_count": 18,
   "metadata": {},
   "outputs": [],
   "source": [
    "patt = re.compile(\n",
    "    r\"^(\\w+)flowersnark(\\d+)_(\\d+).cip.out:Solving Time \\(sec\\) : (\\d+\\.?\\d+)$\",\n",
    "    re.MULTILINE\n",
    ")\n",
    "\n",
    "data = []\n",
    "for mat in patt.finditer(lines):\n",
    "    v, n, c, t = mat.group(1), int(mat.group(2)), int(mat.group(3)), float(mat.group(4))\n",
    "    data.append((v, n, c, t))\n",
    "\n"
   ]
  },
  {
   "cell_type": "code",
   "execution_count": 19,
   "metadata": {},
   "outputs": [],
   "source": [
    "variants = sorted(set(ent[0] for ent in data))"
   ]
  },
  {
   "cell_type": "code",
   "execution_count": 23,
   "metadata": {},
   "outputs": [
    {
     "data": {
      "text/plain": [
       "Text(0, 0.5, 'time (s)')"
      ]
     },
     "execution_count": 23,
     "metadata": {},
     "output_type": "execute_result"
    },
    {
     "data": {
      "image/png": "[encoded data removed]",
      "text/plain": [
       "<Figure size 432x288 with 1 Axes>"
      ]
     },
     "metadata": {
      "needs_background": "light"
     },
     "output_type": "display_data"
    }
   ],
   "source": [
    "import matplotlib.pyplot as plt\n",
    "\n",
    "nvalues = set()\n",
    "for v, n, c, t in data:\n",
    "    if n < 30:\n",
    "        nvalues.add(n)\n",
    "    # if n % 2 == 0:\n",
    "    #     continue\n",
    "    # if t < 200:\n",
    "    #     nvalues.add(n)\n",
    "\n",
    "for v in variants:\n",
    "    plt.scatter(\n",
    "        [n for v_, n, c, t in data if v_ == v and n in nvalues], \n",
    "        [t for v_, n, c, t in data if v_ == v and n in nvalues], \n",
    "        marker=\".\"\n",
    "    )\n",
    "plt.legend(variants)\n",
    "plt.xlabel(\"$n$\")\n",
    "plt.ylabel(\"time (s)\")"
   ]
  },
  {
   "cell_type": "code",
   "execution_count": 21,
   "metadata": {},
   "outputs": [
    {
     "data": {
      "text/plain": [
       "[('nosym', 11, 3, 6.62),\n",
       " ('nosym', 13, 3, 34.53),\n",
       " ('nosym', 15, 3, 105.2),\n",
       " ('nosym', 17, 3, 240.0),\n",
       " ('nosym', 19, 3, 240.0),\n",
       " ('nosym', 21, 3, 240.0),\n",
       " ('nosym', 23, 3, 240.0),\n",
       " ('nosym', 25, 3, 240.0),\n",
       " ('nosym', 27, 3, 240.0),\n",
       " ('nosym', 29, 3, 240.0),\n",
       " ('nosym', 31, 3, 240.0),\n",
       " ('nosym', 33, 3, 240.0),\n",
       " ('nosym', 3, 3, 0.02),\n",
       " ('nosym', 35, 3, 240.0),\n",
       " ('nosym', 37, 3, 240.0),\n",
       " ('nosym', 39, 3, 240.0),\n",
       " ('nosym', 41, 3, 120.72),\n",
       " ('nosym', 43, 3, 120.67),\n",
       " ('nosym', 45, 3, 120.68),\n",
       " ('nosym', 47, 3, 120.67),\n",
       " ('nosym', 49, 3, 120.66),\n",
       " ('nosym', 51, 3, 120.63),\n",
       " ('nosym', 53, 3, 120.58),\n",
       " ('nosym', 5, 3, 0.04),\n",
       " ('nosym', 55, 3, 119.98),\n",
       " ('nosym', 57, 3, 119.48),\n",
       " ('nosym', 59, 3, 114.04),\n",
       " ('nosym', 61, 3, 86.12),\n",
       " ('nosym', 63, 3, 15.44),\n",
       " ('nosym', 7, 3, 0.68),\n",
       " ('nosym', 9, 3, 1.15),\n",
       " ('nosymretope', 11, 3, 1.01),\n",
       " ('nosymretope', 13, 3, 2.87),\n",
       " ('nosymretope', 15, 3, 9.61),\n",
       " ('nosymretope', 17, 3, 35.55),\n",
       " ('nosymretope', 19, 3, 62.88),\n",
       " ('nosymretope', 3, 3, 0.0),\n",
       " ('nosymretope', 5, 3, 0.02),\n",
       " ('nosymretope', 7, 3, 0.05),\n",
       " ('nosymretope', 9, 3, 0.31),\n",
       " ('peek', 11, 3, 1.04),\n",
       " ('peek', 13, 3, 2.73),\n",
       " ('peek', 15, 3, 5.05),\n",
       " ('peek', 17, 3, 19.2),\n",
       " ('peek', 19, 3, 60.18),\n",
       " ('peek', 21, 3, 213.19),\n",
       " ('peek', 23, 3, 224.38),\n",
       " ('peek', 25, 3, 240.0),\n",
       " ('peek', 27, 3, 240.0),\n",
       " ('peek', 29, 3, 240.0),\n",
       " ('peek', 31, 3, 240.0),\n",
       " ('peek', 33, 3, 240.0),\n",
       " ('peek', 3, 3, 0.0),\n",
       " ('peek', 35, 3, 240.0),\n",
       " ('peek', 37, 3, 240.0),\n",
       " ('peek', 39, 3, 240.0),\n",
       " ('peek', 41, 3, 240.0),\n",
       " ('peek', 43, 3, 199.88),\n",
       " ('peek', 45, 3, 46.81),\n",
       " ('peek', 47, 3, 35.68),\n",
       " ('peek', 49, 3, 20.04),\n",
       " ('peek', 51, 3, 20.0),\n",
       " ('peek', 53, 3, 19.97),\n",
       " ('peek', 5, 3, 0.02),\n",
       " ('peek', 55, 3, 19.92),\n",
       " ('peek', 57, 3, 19.64),\n",
       " ('peek', 59, 3, 18.96),\n",
       " ('peek', 61, 3, 17.3),\n",
       " ('peek', 63, 3, 14.98),\n",
       " ('peek', 65, 3, 0.8),\n",
       " ('peek', 7, 3, 0.07),\n",
       " ('peek', 9, 3, 0.42)]"
      ]
     },
     "execution_count": 21,
     "metadata": {},
     "output_type": "execute_result"
    }
   ],
   "source": [
    "data"
   ]
  },
  {
   "cell_type": "code",
   "execution_count": null,
   "metadata": {},
   "outputs": [],
   "source": []
  }
 ],
 "metadata": {
  "interpreter": {
   "hash": "916dbcbb3f70747c44a77c7bcd40155683ae19c65e1c03b4aa3499c5328201f1"
  },
  "kernelspec": {
   "display_name": "Python 3.8.10 64-bit",
   "name": "python3"
  },
  "language_info": {
   "codemirror_mode": {
    "name": "ipython",
    "version": 3
   },
   "file_extension": ".py",
   "mimetype": "text/x-python",
   "name": "python",
   "nbconvert_exporter": "python",
   "pygments_lexer": "ipython3",
   "version": "3.8.10"
  },
  "orig_nbformat": 4
 },
 "nbformat": 4,
 "nbformat_minor": 2
}
