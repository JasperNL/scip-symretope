{
 "cells": [
  {
   "cell_type": "code",
   "execution_count": null,
   "metadata": {},
   "outputs": [],
   "source": [
    "import re\n",
    "import glob\n",
    "import pathlib\n",
    "from IPython.display import display, display_markdown"
   ]
  },
  {
   "cell_type": "code",
   "execution_count": null,
   "metadata": {},
   "outputs": [],
   "source": [
    "for path in glob.glob(\"../instances/flowersnark/*_withctrs_relabel.cip\"):\n",
    "    fullpath = pathlib.Path(path)\n",
    "    newpath = str(fullpath.parent) + \"/\" + fullpath.name[:-21] + \"_relabel.cip\"\n",
    "    with open(path, \"r\") as f_old:\n",
    "        with open(newpath, \"w\") as f_new:\n",
    "            for line in f_old:\n",
    "                do_write = True\n",
    "                for patt in [\"symretope\", \"orbitope\", \"symresack\", \"orbisack\"]:\n",
    "                    if line.find(patt) >= 0:\n",
    "                        do_write = False\n",
    "                        break\n",
    "                if do_write:\n",
    "                    f_new.write(line)\n"
   ]
  },
  {
   "cell_type": "code",
   "execution_count": null,
   "metadata": {},
   "outputs": [],
   "source": []
  }
 ],
 "metadata": {
  "interpreter": {
   "hash": "916dbcbb3f70747c44a77c7bcd40155683ae19c65e1c03b4aa3499c5328201f1"
  },
  "kernelspec": {
   "display_name": "Python 3.8.10 64-bit",
   "name": "python3"
  },
  "language_info": {
   "codemirror_mode": {
    "name": "ipython",
    "version": 3
   },
   "file_extension": ".py",
   "mimetype": "text/x-python",
   "name": "python",
   "nbconvert_exporter": "python",
   "pygments_lexer": "ipython3",
   "version": "3.8.10"
  },
  "orig_nbformat": 4
 },
 "nbformat": 4,
 "nbformat_minor": 2
}
